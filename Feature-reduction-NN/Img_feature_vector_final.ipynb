{
  "nbformat": 4,
  "nbformat_minor": 0,
  "metadata": {
    "colab": {
      "name": "Img_feature_vector_final.ipynb",
      "provenance": [],
      "collapsed_sections": []
    },
    "kernelspec": {
      "name": "python3",
      "display_name": "Python 3"
    },
    "language_info": {
      "name": "python"
    }
  },
  "cells": [
    {
      "cell_type": "code",
      "metadata": {
        "id": "yURZA4KFCcOU"
      },
      "source": [
        "!pip install pycox"
      ],
      "execution_count": 4,
      "outputs": []
    },
    {
      "cell_type": "code",
      "metadata": {
        "id": "QKk9udgrtiud",
        "colab": {
          "base_uri": "https://localhost:8080/"
        },
        "outputId": "74908500-a4c2-4568-d139-737f4e2a29b0"
      },
      "source": [
        "from google.colab import drive\n",
        "drive.mount('/content/drive')"
      ],
      "execution_count": 7,
      "outputs": [
        {
          "output_type": "stream",
          "name": "stdout",
          "text": [
            "Mounted at /content/drive\n"
          ]
        }
      ]
    },
    {
      "cell_type": "code",
      "metadata": {
        "id": "Po7mklUwDEub"
      },
      "source": [
        "!pip install torchtuples"
      ],
      "execution_count": 5,
      "outputs": []
    },
    {
      "cell_type": "code",
      "metadata": {
        "id": "Skbk4S0ECtu5"
      },
      "source": [
        "import torch\n",
        "import torchtuples as tt\n",
        "from sklearn import preprocessing\n",
        "from sklearn.preprocessing import StandardScaler\n",
        "from sklearn_pandas import DataFrameMapper\n",
        "\n",
        "from pycox.datasets import metabric\n",
        "from pycox.models import CoxPH\n",
        "from pycox.evaluation import EvalSurv\n",
        "\n",
        "import numpy as np\n",
        "import os\n",
        "import pandas as pd\n",
        "from typing import Optional"
      ],
      "execution_count": 6,
      "outputs": []
    },
    {
      "cell_type": "code",
      "metadata": {
        "id": "8W_k9AouCvjC"
      },
      "source": [
        "np.random.seed(1234)\n",
        "_ = torch.manual_seed(123)"
      ],
      "execution_count": 7,
      "outputs": []
    },
    {
      "cell_type": "markdown",
      "metadata": {
        "id": "_gW_i8HAHDAA"
      },
      "source": [
        "Load the Data"
      ]
    },
    {
      "cell_type": "code",
      "metadata": {
        "id": "rp9lvXOTDQbz"
      },
      "source": [
        "main_path = r'/content/drive/MyDrive'\n",
        "Survival_Data = pd.read_excel(os.path.join(main_path, 'survival_data/survival1.xlsx'), sheet_name='TCGA-CDR', usecols=\"A,B,Y, Z\")\n",
        "#Survival_Data.dropna(inplace=True)\n",
        "img_list = pd.read_csv(os.path.join(main_path, 'Image-data/IMG-LIST.csv'))\n",
        "image = pd.merge(img_list, Survival_Data, on='EnsemblgeneID')"
      ],
      "execution_count": 8,
      "outputs": []
    },
    {
      "cell_type": "code",
      "metadata": {
        "id": "79Cl0sglf69S"
      },
      "source": [
        "import nibabel as nib\n",
        "\n",
        "from scipy import ndimage\n",
        "\n",
        "\n",
        "def read_nifti_file(filepath):\n",
        "    \"\"\"Read and load volume\"\"\"\n",
        "    # Read file\n",
        "    scan = nib.load(filepath)\n",
        "    # Get raw data\n",
        "    scan = scan.get_fdata()\n",
        "    return scan\n",
        "\n",
        "\n",
        "def normalize(volume):\n",
        "    \"\"\"Normalize the volume\"\"\"\n",
        "    min = -1024\n",
        "    max = 400\n",
        "    volume[volume < min] = min\n",
        "    volume[volume > max] = max\n",
        "    volume = (volume - min) / (max - min)\n",
        "    volume = volume.astype(\"float32\")\n",
        "    return volume\n",
        "\n",
        "\n",
        "def resize_volume(img):\n",
        "    \"\"\"Resize across z-axis\"\"\"\n",
        "    # Set the desired depth\n",
        "    desired_depth = 20\n",
        "    desired_width = 128\n",
        "    desired_height = 128\n",
        "    # Get current depth\n",
        "    current_depth = img.shape[-1]\n",
        "    current_width = img.shape[0]\n",
        "    current_height = img.shape[1]\n",
        "    # Compute depth factor\n",
        "    depth = current_depth / desired_depth\n",
        "    width = current_width / desired_width\n",
        "    height = current_height / desired_height\n",
        "    depth_factor = 1 / depth\n",
        "    width_factor = 1 / width\n",
        "    height_factor = 1 / height\n",
        "    # Rotate\n",
        "    img = ndimage.rotate(img, 90, reshape=False)\n",
        "    # Resize across z-axis\n",
        "    img = ndimage.zoom(img, (width_factor, height_factor, depth_factor), order=1)\n",
        "    return img\n",
        "\n",
        "\n",
        "def process_scan(path):\n",
        "    \"\"\"Read and resize volume\"\"\"\n",
        "    # Read scan\n",
        "    volume = read_nifti_file(path)\n",
        "    # Normalize\n",
        "    volume = normalize(volume)\n",
        "    # Resize width, height and depth\n",
        "    volume = resize_volume(volume)\n",
        "    volume = volume.T\n",
        "    return volume"
      ],
      "execution_count": 9,
      "outputs": []
    },
    {
      "cell_type": "code",
      "metadata": {
        "id": "4qygs55senNv",
        "colab": {
          "base_uri": "https://localhost:8080/"
        },
        "outputId": "5b02db6c-3038-4e3c-d3e8-6d122040cf55"
      },
      "source": [
        "abnormal_scan_paths = [\n",
        "    os.path.join(main_path, \"Image-data/CT_patch\", x)\n",
        "    for x in os.listdir(os.path.join(main_path, \"Image-data/CT_patch\"))\n",
        "]\n",
        "\n",
        "print(\"CT scans with abnormal lung tissue: \" + str(len(abnormal_scan_paths)))"
      ],
      "execution_count": 10,
      "outputs": [
        {
          "output_type": "stream",
          "name": "stdout",
          "text": [
            "CT scans with abnormal lung tissue: 90\n"
          ]
        }
      ]
    },
    {
      "cell_type": "code",
      "metadata": {
        "id": "RJBci1-2eZF8"
      },
      "source": [
        "abnormal_scans = np.array([process_scan(path) for path in abnormal_scan_paths])\n",
        "\n",
        "patient_name = []\n",
        "abnormal_labels = np.zeros([len(abnormal_scan_paths), 2])\n",
        "for i in range(len(abnormal_scan_paths)):\n",
        "    str1 = str.split(abnormal_scan_paths[i], '/')[-1]\n",
        "    index = np.where(Survival_Data.values[:, 0] == str.split(str1, '.')[0])[0]\n",
        "    patient_name.append(Survival_Data.values[index, 0])# \n",
        "    abnormal_labels[i, :] = Survival_Data.values[index, 2:4]#\n",
        "    \n",
        "\n"
      ],
      "execution_count": 11,
      "outputs": []
    },
    {
      "cell_type": "code",
      "metadata": {
        "colab": {
          "base_uri": "https://localhost:8080/"
        },
        "id": "1eE42qRega2-",
        "outputId": "d3e4e57a-ef62-430c-9a0d-bd46b986e19f"
      },
      "source": [
        "abnormal_scans.shape"
      ],
      "execution_count": 12,
      "outputs": [
        {
          "output_type": "execute_result",
          "data": {
            "text/plain": [
              "(90, 20, 128, 128)"
            ]
          },
          "metadata": {},
          "execution_count": 12
        }
      ]
    },
    {
      "cell_type": "code",
      "metadata": {
        "id": "el-evcgBhu5D",
        "colab": {
          "base_uri": "https://localhost:8080/"
        },
        "outputId": "12c0fc15-a8e1-43e5-80f4-514ce99feff2"
      },
      "source": [
        "X= abnormal_scans\n",
        "y = abnormal_labels\n",
        "#y_train = tuple([y_train[:, 0], y_train[:, 1]])\n",
        "print(\"Number of samples in train are %d.\" % (X.shape[0]))"
      ],
      "execution_count": 13,
      "outputs": [
        {
          "output_type": "stream",
          "name": "stdout",
          "text": [
            "Number of samples in train are 90.\n"
          ]
        }
      ]
    },
    {
      "cell_type": "code",
      "metadata": {
        "id": "N_fSAvCNkD4z"
      },
      "source": [
        "X = np.expand_dims(X, axis=1)"
      ],
      "execution_count": 14,
      "outputs": []
    },
    {
      "cell_type": "code",
      "metadata": {
        "colab": {
          "base_uri": "https://localhost:8080/"
        },
        "id": "dnPG8zx5gg8j",
        "outputId": "1ebdde3f-d1bf-45ff-f533-3f6cd8b9d262"
      },
      "source": [
        "X.shape"
      ],
      "execution_count": 15,
      "outputs": [
        {
          "output_type": "execute_result",
          "data": {
            "text/plain": [
              "(90, 1, 20, 128, 128)"
            ]
          },
          "metadata": {},
          "execution_count": 15
        }
      ]
    },
    {
      "cell_type": "markdown",
      "metadata": {
        "id": "0xVCI3-ivViV"
      },
      "source": [
        "Define the model"
      ]
    },
    {
      "cell_type": "code",
      "metadata": {
        "colab": {
          "base_uri": "https://localhost:8080/"
        },
        "id": "gzVV4-83-zys",
        "outputId": "3daee282-7fa9-4c96-8125-cc33b120c261"
      },
      "source": [
        "import torch\n",
        "import torch.nn as nn\n",
        "import torch.nn.functional as F\n",
        "\n",
        "class CNN(nn.Module): \n",
        "    def __init__(self):\n",
        "        super(CNN, self).__init__()\n",
        "        self.conv1 = nn.Conv3d(in_channels=1, out_channels=10, kernel_size=3)\n",
        "        self.conv2 = nn.Conv3d(10, 20, kernel_size=3)\n",
        "        self.conv2_drop = nn.Dropout3d()\n",
        "        self.fc1 = nn.Linear(54000, 32)\n",
        "        self.fc2 = nn.Linear(32, 1)\n",
        "\n",
        "    def forward(self, x):\n",
        "        # print(x.shape)\n",
        "        x = F.relu(F.max_pool3d(self.conv1(x), 2))\n",
        "        x = F.relu(F.max_pool3d(self.conv2_drop(self.conv2(x)), 2))\n",
        "        x = x.view(x.shape[0],-1)\n",
        "        x = F.relu(self.fc1(x))\n",
        "        x = F.dropout(x, training=self.training)\n",
        "        x = self.fc2(x)\n",
        "        return x\n",
        "\n",
        "net = CNN()\n",
        "print(net)"
      ],
      "execution_count": 24,
      "outputs": [
        {
          "output_type": "stream",
          "name": "stdout",
          "text": [
            "CNN(\n",
            "  (conv1): Conv3d(1, 10, kernel_size=(3, 3, 3), stride=(1, 1, 1))\n",
            "  (conv2): Conv3d(10, 20, kernel_size=(3, 3, 3), stride=(1, 1, 1))\n",
            "  (conv2_drop): Dropout3d(p=0.5, inplace=False)\n",
            "  (fc1): Linear(in_features=54000, out_features=32, bias=True)\n",
            "  (fc2): Linear(in_features=32, out_features=1, bias=True)\n",
            ")\n"
          ]
        }
      ]
    },
    {
      "cell_type": "code",
      "source": [
        "class ConvNet(nn.Module):\n",
        "    def __init__(self,h1=96):\n",
        "        # We optimize dropout rate in a convolutional neural network.\n",
        "        super(ConvNet, self).__init__()\n",
        "\n",
        "        self.conv1 = nn.Conv3d(in_channels=1, out_channels=16, kernel_size=5, stride=1, padding=2)\n",
        "        self.conv2 = nn.Conv3d(in_channels=16, out_channels=32, kernel_size=5, stride=1, padding=2)\n",
        "        self.drop1=nn.Dropout3d(p=0.5)  \n",
        "        \n",
        "        self.fc1 = nn.Linear(32 * 7 * 7, h1)\n",
        "        self.drop2=nn.Dropout3d(p=0.1)\n",
        "        self.fc2 = nn.Linear(h1, 10)\n",
        "\n",
        "    def forward(self, x):\n",
        "        x = F.relu(F.max_pool3d(self.conv1(x),kernel_size = 2))\n",
        "        x = F.relu(F.max_pool3d(self.conv2(x),kernel_size = 2))\n",
        "        x = self.drop1(x)\n",
        "\n",
        "        x = x.view(x.size(0),-1)\n",
        "\n",
        "        x = F.relu(self.fc1(x))\n",
        "        x = self.drop2(x)\n",
        "        return self.fc2(x)"
      ],
      "metadata": {
        "id": "irwYQVrJMBxr"
      },
      "execution_count": 17,
      "outputs": []
    },
    {
      "cell_type": "code",
      "source": [
        "def get_features(name):\n",
        "    def hook(model, input, output):\n",
        "        features[name] = output.detach()\n",
        "    return hook\n",
        "#get_target = lambda df_clinic: (df_clinic['OS.time'].values, df_clinic['OS'].values)"
      ],
      "metadata": {
        "id": "lLZ0dc26NeN5"
      },
      "execution_count": 25,
      "outputs": []
    },
    {
      "cell_type": "code",
      "source": [
        "\n",
        "from sklearn.model_selection import train_test_split\n",
        "from sklearn.model_selection import KFold\n",
        "in_features = X.shape[1]\n",
        "verbose = True\n",
        "batch_size = 8\n",
        "epochs = 50\n",
        "out_features = 1\n",
        "index_test = []\n",
        "feature_vectore = np.zeros([0, 32], dtype=np.float32)\n",
        "\n",
        "cv = KFold(n_splits=2, shuffle=True, random_state=10)\n",
        "i=1\n",
        "for train_ix, test_ix in cv.split(X):\n",
        "\t\n",
        "\t# split data\n",
        "\tx_train, X_test = X[train_ix, :], X[test_ix, :]\n",
        "\ty_train, y_test = y[train_ix, :],y[test_ix, :]\n",
        "  #tuple([y[train_ix, 0], y[train_ix, 1]]),tuple([y[test_ix, 0], y[test_ix, 1]])\n",
        "\t# get validation set\n",
        "\tX_train, X_val, y_train, y_val = train_test_split(x_train, y_train, test_size=0.3, random_state=10)\n",
        "\n",
        "\t# Normalise data\n",
        "\t#X_train,X_val,X_test = normalize(X_train,X_val,X_test)\n",
        "\t#X_test = normalize(X_test)\n",
        "\t#X_val = normalize(X_val)\n",
        "\t#print('Train, val, test shape run:', i, X_train.shape, X_val.shape, X_test.shape)\n",
        " \n",
        "\t# convert to event + duration\n",
        "\ty_train = tuple([y_train[:, 0], y_train[:, 1]])\n",
        "\ty_test = tuple([y_test[:, 0], y_test[:, 1]])\n",
        "\ty_val = tuple([y_val[:, 0], y_val[:, 1]])\n",
        "\tval_g = X_val, y_val\n",
        "\tdurations_test, events_test = y_test[0][:], y_test[1][:]\n",
        "\t# Model\n",
        "\ttorch.manual_seed(56) \n",
        "\tnet = CNN()\n",
        " # print(net)\n",
        "\t# Same output number\n",
        "\tmodel = CoxPH(net, tt.optim.Adam)\n",
        "\t# model.optimizer.set_lr(0.01)\n",
        "\tmodel.optimizer.set_lr(1e-4)\n",
        "\t# lrfinder = model.lr_finder(X_train, y_train, batch_size, tolerance=10)\n",
        "\t# lrfinder.get_best_lr()\n",
        " \n",
        "\n",
        "\tcallbacks = [tt.callbacks.EarlyStopping()]\n",
        "\t\n",
        "\tlog = model.fit(X_train, y_train, batch_size, epochs, callbacks, verbose, val_data=val_g, val_batch_size=batch_size)\n",
        "\n",
        "\t_ = log.plot()\n",
        "\n",
        "\tfeatures = {}\n",
        "\tmodel.net.fc1.register_forward_hook(get_features('fc1'))\n",
        "\t_ = model.compute_baseline_hazards()\n",
        "\tsurv = model.predict_surv_df(X_test)\n",
        "\n",
        "\t#  Feature extraction\n",
        "\textracted = features['fc1'].cpu().numpy()\n",
        "\tfeature_vectore = np.append(feature_vectore, extracted, axis=0)\n",
        "\n",
        "\tev = EvalSurv(surv, durations_test, events_test, censor_surv='km')\n",
        "\tprint(i, \"Image C-Index\", ev.concordance_td())\n",
        "\ti+=1\n",
        "\tindex_test = np.append(index_test, test_ix)\n",
        "  \n",
        " \n",
        "   \n",
        "\n"
      ],
      "metadata": {
        "colab": {
          "base_uri": "https://localhost:8080/",
          "height": 1000
        },
        "id": "NNOV9l_ENSWD",
        "outputId": "ce122267-adb3-4724-8a88-e08f33180743"
      },
      "execution_count": 26,
      "outputs": [
        {
          "output_type": "stream",
          "name": "stdout",
          "text": [
            "0:\t[7s / 7s],\t\ttrain_loss: 1.2040,\tval_loss: 1.0143\n",
            "1:\t[7s / 14s],\t\ttrain_loss: 1.1757,\tval_loss: 1.0180\n",
            "2:\t[6s / 21s],\t\ttrain_loss: 1.2682,\tval_loss: 1.0237\n",
            "3:\t[6s / 28s],\t\ttrain_loss: 1.1914,\tval_loss: 1.0252\n",
            "4:\t[7s / 35s],\t\ttrain_loss: 1.1718,\tval_loss: 1.0311\n",
            "5:\t[7s / 42s],\t\ttrain_loss: 1.2508,\tval_loss: 1.0375\n",
            "6:\t[6s / 49s],\t\ttrain_loss: 1.1287,\tval_loss: 1.0397\n",
            "7:\t[7s / 56s],\t\ttrain_loss: 1.1798,\tval_loss: 1.0427\n",
            "8:\t[7s / 1m:3s],\t\ttrain_loss: 1.1732,\tval_loss: 1.0467\n",
            "9:\t[7s / 1m:10s],\t\ttrain_loss: 1.1339,\tval_loss: 1.0484\n",
            "10:\t[6s / 1m:17s],\t\ttrain_loss: 1.1006,\tval_loss: 1.0516\n",
            "1 Image C-Index 0.8499542543458372\n",
            "0:\t[7s / 7s],\t\ttrain_loss: 1.2781,\tval_loss: 1.3747\n",
            "1:\t[8s / 15s],\t\ttrain_loss: 1.4484,\tval_loss: 1.3698\n",
            "2:\t[7s / 23s],\t\ttrain_loss: 1.2552,\tval_loss: 1.3796\n",
            "3:\t[7s / 30s],\t\ttrain_loss: 1.3102,\tval_loss: 1.3816\n",
            "4:\t[7s / 38s],\t\ttrain_loss: 1.2941,\tval_loss: 1.3865\n",
            "5:\t[7s / 45s],\t\ttrain_loss: 1.3001,\tval_loss: 1.3871\n",
            "6:\t[8s / 54s],\t\ttrain_loss: 1.1773,\tval_loss: 1.3828\n",
            "7:\t[7s / 1m:1s],\t\ttrain_loss: 1.3424,\tval_loss: 1.3722\n",
            "8:\t[7s / 1m:8s],\t\ttrain_loss: 1.3095,\tval_loss: 1.3623\n",
            "9:\t[7s / 1m:16s],\t\ttrain_loss: 1.2936,\tval_loss: 1.3565\n",
            "10:\t[7s / 1m:23s],\t\ttrain_loss: 1.3805,\tval_loss: 1.3505\n",
            "11:\t[7s / 1m:31s],\t\ttrain_loss: 1.2360,\tval_loss: 1.3442\n",
            "12:\t[7s / 1m:38s],\t\ttrain_loss: 1.3755,\tval_loss: 1.3384\n",
            "13:\t[7s / 1m:46s],\t\ttrain_loss: 1.3389,\tval_loss: 1.3324\n",
            "14:\t[7s / 1m:53s],\t\ttrain_loss: 1.3192,\tval_loss: 1.3296\n",
            "15:\t[7s / 2m:1s],\t\ttrain_loss: 1.2945,\tval_loss: 1.3247\n",
            "16:\t[7s / 2m:8s],\t\ttrain_loss: 1.2884,\tval_loss: 1.3194\n",
            "17:\t[7s / 2m:15s],\t\ttrain_loss: 1.2387,\tval_loss: 1.3092\n",
            "18:\t[7s / 2m:23s],\t\ttrain_loss: 1.2764,\tval_loss: 1.3064\n",
            "19:\t[7s / 2m:30s],\t\ttrain_loss: 1.2493,\tval_loss: 1.3066\n",
            "20:\t[7s / 2m:38s],\t\ttrain_loss: 1.2527,\tval_loss: 1.3024\n",
            "21:\t[7s / 2m:45s],\t\ttrain_loss: 1.2491,\tval_loss: 1.2851\n",
            "22:\t[7s / 2m:53s],\t\ttrain_loss: 1.1610,\tval_loss: 1.2762\n",
            "23:\t[8s / 3m:1s],\t\ttrain_loss: 1.1821,\tval_loss: 1.2703\n",
            "24:\t[9s / 3m:11s],\t\ttrain_loss: 1.0492,\tval_loss: 1.2737\n",
            "25:\t[6s / 3m:18s],\t\ttrain_loss: 1.2734,\tval_loss: 1.2836\n",
            "26:\t[6s / 3m:25s],\t\ttrain_loss: 1.1989,\tval_loss: 1.2975\n",
            "27:\t[6s / 3m:31s],\t\ttrain_loss: 1.2212,\tval_loss: 1.3068\n",
            "28:\t[6s / 3m:38s],\t\ttrain_loss: 1.2274,\tval_loss: 1.3194\n",
            "29:\t[6s / 3m:45s],\t\ttrain_loss: 1.1167,\tval_loss: 1.3227\n",
            "30:\t[6s / 3m:51s],\t\ttrain_loss: 1.0716,\tval_loss: 1.3338\n",
            "31:\t[6s / 3m:58s],\t\ttrain_loss: 1.1156,\tval_loss: 1.3454\n",
            "32:\t[6s / 4m:5s],\t\ttrain_loss: 1.1689,\tval_loss: 1.3466\n",
            "33:\t[6s / 4m:11s],\t\ttrain_loss: 1.2859,\tval_loss: 1.3414\n",
            "2 Image C-Index 0.71\n"
          ]
        },
        {
          "output_type": "display_data",
          "data": {
            "image/png": "[encoded data removed]",
            "text/plain": [
              "<Figure size 432x288 with 1 Axes>"
            ]
          },
          "metadata": {
            "needs_background": "light"
          }
        },
        {
          "output_type": "display_data",
          "data": {
            "image/png": "[encoded data removed]",
            "text/plain": [
              "<Figure size 432x288 with 1 Axes>"
            ]
          },
          "metadata": {
            "needs_background": "light"
          }
        }
      ]
    },
    {
      "cell_type": "code",
      "metadata": {
        "id": "S_I0NICpuyzZ"
      },
      "source": [
        "#patient_name"
      ],
      "execution_count": null,
      "outputs": []
    },
    {
      "cell_type": "code",
      "metadata": {
        "id": "GDlwb4oXuvPM"
      },
      "source": [
        "#bb=np.concatenate((patient_name,X_validation_feature), axis=1)\n",
        "#np.savetxt(\"/content/drive/MyDrive/Feature-vector/patient_IMG_83.csv\", bb, delimiter=\",\",fmt='%s')"
      ],
      "execution_count": null,
      "outputs": []
    },
    {
      "cell_type": "code",
      "source": [
        ""
      ],
      "metadata": {
        "id": "ChbUud3i8E6L"
      },
      "execution_count": null,
      "outputs": []
    }
  ]
}